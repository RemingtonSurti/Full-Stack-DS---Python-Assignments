{
 "cells": [
  {
   "cell_type": "markdown",
   "id": "b39d9c07",
   "metadata": {},
   "source": [
    "# Python Basic Programming Assignment 1\n",
    "### Remington Surti\n",
    "\n"
   ]
  },
  {
   "cell_type": "markdown",
   "id": "2f8e8ba5",
   "metadata": {},
   "source": [
    "#### Q1 Write a Python program to print \"Hello Python\""
   ]
  },
  {
   "cell_type": "code",
   "execution_count": 1,
   "id": "fd332427",
   "metadata": {},
   "outputs": [
    {
     "name": "stdout",
     "output_type": "stream",
     "text": [
      " Hello Python \n"
     ]
    }
   ],
   "source": [
    "print(\" Hello Python \")"
   ]
  },
  {
   "cell_type": "markdown",
   "id": "5a9a6c39",
   "metadata": {},
   "source": [
    "#### Q2 Write a Python program to do arithmetical operations addition and division."
   ]
  },
  {
   "cell_type": "code",
   "execution_count": 2,
   "id": "40e7cb3a",
   "metadata": {},
   "outputs": [],
   "source": [
    "def addition(a, b):\n",
    "    return (a+b)\n",
    "\n",
    "def division(a,b):\n",
    "    return (a/b)"
   ]
  },
  {
   "cell_type": "code",
   "execution_count": 4,
   "id": "934444b1",
   "metadata": {},
   "outputs": [
    {
     "data": {
      "text/plain": [
       "35"
      ]
     },
     "execution_count": 4,
     "metadata": {},
     "output_type": "execute_result"
    }
   ],
   "source": [
    "addition(11, 24)"
   ]
  },
  {
   "cell_type": "code",
   "execution_count": 6,
   "id": "e974a96a",
   "metadata": {},
   "outputs": [
    {
     "data": {
      "text/plain": [
       "2.0"
      ]
     },
     "execution_count": 6,
     "metadata": {},
     "output_type": "execute_result"
    }
   ],
   "source": [
    "division(24, 12)"
   ]
  },
  {
   "cell_type": "markdown",
   "id": "ae571ba2",
   "metadata": {},
   "source": [
    "#### Q3 Write a Python program to find the area of a triangle?"
   ]
  },
  {
   "cell_type": "code",
   "execution_count": 10,
   "id": "2309663a",
   "metadata": {},
   "outputs": [
    {
     "name": "stdout",
     "output_type": "stream",
     "text": [
      "Enter the length of altitude of the triangle: 12\n",
      "Enter the length of the base of triangle: 4\n"
     ]
    },
    {
     "data": {
      "text/plain": [
       "24.0"
      ]
     },
     "execution_count": 10,
     "metadata": {},
     "output_type": "execute_result"
    }
   ],
   "source": [
    "def Area_of_triangle(l,b):\n",
    "    return (0.5 * (l * b))\n",
    "    \n",
    "altitude = int(input(\"Enter the length of altitude of the triangle: \"))\n",
    "base = int(input(\"Enter the length of the base of triangle: \"))\n",
    "\n",
    "Area_of_triangle(altitude, base)"
   ]
  },
  {
   "cell_type": "markdown",
   "id": "bf6e5554",
   "metadata": {},
   "source": [
    "#### Q4 Write a Python program to swap two variables?"
   ]
  },
  {
   "cell_type": "code",
   "execution_count": 11,
   "id": "9acab420",
   "metadata": {},
   "outputs": [
    {
     "name": "stdout",
     "output_type": "stream",
     "text": [
      "Before swapping values  a = 10\n",
      "Before swapping values  b = 20\n",
      "After swapping values now a = 20\n",
      "After swapping values now b = 10\n"
     ]
    }
   ],
   "source": [
    "a = 10\n",
    "b = 20\n",
    "\n",
    "print(\"Before swapping values  a = {}\".format(a))\n",
    "print(\"Before swapping values  b = {}\".format(b))\n",
    "\n",
    "temp = a\n",
    "a = b\n",
    "b = temp\n",
    "\n",
    "print(\"After swapping values now a = {}\".format(a))\n",
    "print(\"After swapping values now b = {}\".format(b))"
   ]
  },
  {
   "cell_type": "markdown",
   "id": "5bd5abf6",
   "metadata": {},
   "source": [
    "#### Q5 Write a Python program to generate a random number?"
   ]
  },
  {
   "cell_type": "code",
   "execution_count": 13,
   "id": "60561fad",
   "metadata": {},
   "outputs": [
    {
     "name": "stdout",
     "output_type": "stream",
     "text": [
      "The randomly generated number is 11\n"
     ]
    }
   ],
   "source": [
    "import random\n",
    "\n",
    "n = random.randint(0,11)\n",
    "\n",
    "print(\"The randomly generated number is {}\".format(n))"
   ]
  }
 ],
 "metadata": {
  "kernelspec": {
   "display_name": "Python 3 (ipykernel)",
   "language": "python",
   "name": "python3"
  },
  "language_info": {
   "codemirror_mode": {
    "name": "ipython",
    "version": 3
   },
   "file_extension": ".py",
   "mimetype": "text/x-python",
   "name": "python",
   "nbconvert_exporter": "python",
   "pygments_lexer": "ipython3",
   "version": "3.9.12"
  }
 },
 "nbformat": 4,
 "nbformat_minor": 5
}
