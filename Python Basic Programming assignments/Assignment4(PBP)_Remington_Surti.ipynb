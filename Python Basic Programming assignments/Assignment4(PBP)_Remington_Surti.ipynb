{
 "cells": [
  {
   "cell_type": "markdown",
   "id": "e32e28bc",
   "metadata": {},
   "source": [
    "# Python Basic Programming Assignment 4\n",
    "### Remington Surti\n",
    "\n"
   ]
  },
  {
   "cell_type": "markdown",
   "id": "4390ffad",
   "metadata": {},
   "source": [
    "#### Q1 Write a Python Program to Find the Factorial of a Number?"
   ]
  },
  {
   "cell_type": "code",
   "execution_count": 4,
   "id": "76fa262b",
   "metadata": {},
   "outputs": [
    {
     "name": "stdout",
     "output_type": "stream",
     "text": [
      "Enter a number: 7\n",
      "The factorial of 7 is 5040\n"
     ]
    }
   ],
   "source": [
    "f = int(input(\"Enter a number: \"))\n",
    "factorial = 1\n",
    "\n",
    "if f < 0:\n",
    "    print(\"Factorials do not exist for negative numbers\")\n",
    "elif f == 0:\n",
    "    print(\"The factorial of 0 is \", factorial)\n",
    "else:\n",
    "    for i in range(1, f+1):\n",
    "        factorial = factorial*i\n",
    "    print(\"The factorial of {} is {}\".format(f, factorial))\n",
    "    "
   ]
  },
  {
   "cell_type": "markdown",
   "id": "da415479",
   "metadata": {},
   "source": [
    "#### Q2 Write a Python Program to Display the multiplication Table?"
   ]
  },
  {
   "cell_type": "code",
   "execution_count": 6,
   "id": "5a8ba7ea",
   "metadata": {},
   "outputs": [
    {
     "name": "stdout",
     "output_type": "stream",
     "text": [
      "Enter a number: 11\n",
      "11 x 1 = 11\n",
      "11 x 2 = 22\n",
      "11 x 3 = 33\n",
      "11 x 4 = 44\n",
      "11 x 5 = 55\n",
      "11 x 6 = 66\n",
      "11 x 7 = 77\n",
      "11 x 8 = 88\n",
      "11 x 9 = 99\n",
      "11 x 10 = 110\n",
      "11 x 11 = 121\n",
      "11 x 12 = 132\n",
      "11 x 13 = 143\n",
      "11 x 14 = 154\n",
      "11 x 15 = 165\n",
      "11 x 16 = 176\n",
      "11 x 17 = 187\n",
      "11 x 18 = 198\n",
      "11 x 19 = 209\n",
      "11 x 20 = 220\n"
     ]
    }
   ],
   "source": [
    "n = int(input(\"Enter a number: \"))\n",
    "for i in range(1, 21):\n",
    "    print(f\"{n} x {i} = {n*i}\")"
   ]
  },
  {
   "cell_type": "markdown",
   "id": "175feaf4",
   "metadata": {},
   "source": [
    "#### Q3 Write a Python Program to Print the Fibonacci sequence?"
   ]
  },
  {
   "cell_type": "code",
   "execution_count": 17,
   "id": "5225b350",
   "metadata": {},
   "outputs": [
    {
     "name": "stdout",
     "output_type": "stream",
     "text": [
      "Enter the length of fibonacci series you need : 11\n",
      "The fibonacci sequence till 11 poditions: \n",
      "0\n",
      "1\n",
      "1\n",
      "2\n",
      "3\n",
      "5\n",
      "8\n",
      "13\n",
      "21\n",
      "34\n",
      "55\n"
     ]
    }
   ],
   "source": [
    "fib = int(input(\"Enter the length of fibonacci series you need : \"))\n",
    "n1 = 0\n",
    "n2 = 1\n",
    "count = 0\n",
    "\n",
    "if fib <= 0:\n",
    "    print(\"Please enter a positive number!\")\n",
    "elif fib == 1:\n",
    "    print(f\"The fibonacci sequence till {fib} position : {n1}\")\n",
    "else:\n",
    "    print(f\"The fibonacci sequence till {fib} poditions: \")\n",
    "    while count < fib:\n",
    "        print(n1)\n",
    "        temp = n1 + n2\n",
    "        n1 = n2\n",
    "        n2 = temp\n",
    "        count += 1\n"
   ]
  },
  {
   "cell_type": "markdown",
   "id": "0866f499",
   "metadata": {},
   "source": [
    "## "
   ]
  },
  {
   "cell_type": "markdown",
   "id": "a9e65bb0",
   "metadata": {},
   "source": [
    "#### Q4 Write a Python Program to Check Armstrong Number?"
   ]
  },
  {
   "cell_type": "code",
   "execution_count": 21,
   "id": "a1c0da3c",
   "metadata": {},
   "outputs": [
    {
     "name": "stdout",
     "output_type": "stream",
     "text": [
      "Lets Check if a number is a armstrong number or not \n",
      "Enter a number you want to check: 371\n",
      "The number entered is an armstrong number\n"
     ]
    }
   ],
   "source": [
    "print('Lets Check if a number is a armstrong number or not ')\n",
    "n = int(input('Enter a number you want to check: '))\n",
    "power = len(str(n))\n",
    "temp = n\n",
    "sum=0\n",
    "while temp>0:\n",
    "    digit = temp % 10\n",
    "    sum += (digit ** power)\n",
    "    temp =  temp//10\n",
    "#print(sum)\n",
    "if n == sum:\n",
    "    print('The number entered is an armstrong number')\n",
    "else:\n",
    "    print('The number entered is not an armstrong number')"
   ]
  },
  {
   "cell_type": "markdown",
   "id": "6e2a9fb5",
   "metadata": {},
   "source": [
    "#### Q5 Write a Python Program to Find Armstrong Number in an Interval?"
   ]
  },
  {
   "cell_type": "code",
   "execution_count": 22,
   "id": "df70130c",
   "metadata": {},
   "outputs": [
    {
     "name": "stdout",
     "output_type": "stream",
     "text": [
      "Lets find some armstrong numbers in a range of values \n",
      "Enter a number where the range begins: 153\n",
      "Enter a number where the range ends: 1000\n",
      "153\n",
      "370\n",
      "371\n",
      "407\n"
     ]
    }
   ],
   "source": [
    "print('Lets find some armstrong numbers in a range of values ')\n",
    "lower_range = int(input('Enter a number where the range begins: '))\n",
    "upper_range = int(input('Enter a number where the range ends: '))\n",
    "\n",
    "for n in range(lower_range, upper_range):\n",
    "    power = len(str(n))\n",
    "    sum=0\n",
    "    temp=n\n",
    "    while temp>0:\n",
    "        digit = temp % 10\n",
    "        sum += (digit ** power)\n",
    "        temp =  temp//10\n",
    "    if n == sum:\n",
    "        print(n)\n",
    "    "
   ]
  },
  {
   "cell_type": "markdown",
   "id": "a71c711d",
   "metadata": {},
   "source": [
    "#### Q6 Write a Python Program to Find the Sum of Natural Numbers?"
   ]
  },
  {
   "cell_type": "code",
   "execution_count": 23,
   "id": "64ff5eeb",
   "metadata": {},
   "outputs": [
    {
     "name": "stdout",
     "output_type": "stream",
     "text": [
      "Lets find sum of natural numbers\n",
      "Enter a number: 10\n",
      "The sum of natural numbers till 10 is 55\n"
     ]
    }
   ],
   "source": [
    "print('Lets find sum of natural numbers')\n",
    "n=int(input('Enter a number: '))\n",
    "temp=n\n",
    "if temp<0:\n",
    "    print('Enter a non-zero positive number: ')\n",
    "else:\n",
    "    sum=0\n",
    "    while(temp>0):\n",
    "        sum += temp\n",
    "        temp -= 1\n",
    "    print(f'The sum of natural numbers till {n} is {sum}')\n"
   ]
  },
  {
   "cell_type": "code",
   "execution_count": null,
   "id": "7a5e3077",
   "metadata": {},
   "outputs": [],
   "source": []
  }
 ],
 "metadata": {
  "kernelspec": {
   "display_name": "Python 3 (ipykernel)",
   "language": "python",
   "name": "python3"
  },
  "language_info": {
   "codemirror_mode": {
    "name": "ipython",
    "version": 3
   },
   "file_extension": ".py",
   "mimetype": "text/x-python",
   "name": "python",
   "nbconvert_exporter": "python",
   "pygments_lexer": "ipython3",
   "version": "3.9.12"
  }
 },
 "nbformat": 4,
 "nbformat_minor": 5
}
