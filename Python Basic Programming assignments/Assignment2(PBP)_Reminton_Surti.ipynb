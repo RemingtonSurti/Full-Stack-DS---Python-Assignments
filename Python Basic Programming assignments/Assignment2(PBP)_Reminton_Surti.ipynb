{
 "cells": [
  {
   "cell_type": "markdown",
   "id": "fbd48ea0",
   "metadata": {},
   "source": [
    "# Python Basic Programming Assignment 2\n",
    "### Remington Surti\n",
    "\n"
   ]
  },
  {
   "cell_type": "markdown",
   "id": "464c6a3e",
   "metadata": {},
   "source": [
    "#### Q1 Write a Python program to convert kilometers to miles?"
   ]
  },
  {
   "cell_type": "code",
   "execution_count": 3,
   "id": "83fbf84d",
   "metadata": {},
   "outputs": [
    {
     "name": "stdout",
     "output_type": "stream",
     "text": [
      "Enter the kilometers: 1\n",
      "1.0 kilometer(s) is/are equal to 0.621 mile(s)\n"
     ]
    }
   ],
   "source": [
    "km = float(input(\"Enter the kilometers: \"))\n",
    "miles = 0.621*km\n",
    "print(\"{} kilometer(s) is/are equal to {} mile(s)\".format(km, miles))"
   ]
  },
  {
   "cell_type": "markdown",
   "id": "028339c2",
   "metadata": {},
   "source": [
    "#### Q2 Write a Python program to convert Celsius to Fahrenheit?"
   ]
  },
  {
   "cell_type": "code",
   "execution_count": 6,
   "id": "ff654322",
   "metadata": {},
   "outputs": [
    {
     "name": "stdout",
     "output_type": "stream",
     "text": [
      "Enter the degree Celcius: 1\n",
      "1.0 Celcius is equal to 33.8 Farenheit\n"
     ]
    }
   ],
   "source": [
    "Celcius = float(input(\"Enter the degree Celcius: \"))\n",
    "Farenheit = Celcius*(9/5) + 32\n",
    "print(\"{} Celcius is equal to {} Farenheit\".format(Celcius, Farenheit))"
   ]
  },
  {
   "cell_type": "markdown",
   "id": "79c09bcf",
   "metadata": {},
   "source": [
    "#### Q3 Write a Python program to display calendar?"
   ]
  },
  {
   "cell_type": "code",
   "execution_count": 9,
   "id": "d2e88a6c",
   "metadata": {},
   "outputs": [
    {
     "name": "stdout",
     "output_type": "stream",
     "text": [
      "Enter the year: 1999\n",
      "Enter the month: 9\n",
      "   September 1999\n",
      "Mo Tu We Th Fr Sa Su\n",
      "       1  2  3  4  5\n",
      " 6  7  8  9 10 11 12\n",
      "13 14 15 16 17 18 19\n",
      "20 21 22 23 24 25 26\n",
      "27 28 29 30\n",
      "\n"
     ]
    }
   ],
   "source": [
    "import calendar\n",
    "\n",
    "y = int(input(\"Enter the year: \"))\n",
    "m = int(input(\"Enter the month: \"))\n",
    "\n",
    "print(calendar.month(y, m))"
   ]
  },
  {
   "cell_type": "markdown",
   "id": "8a0e509a",
   "metadata": {},
   "source": [
    "#### Q4 Write a Python program to solve quadratic equation?"
   ]
  },
  {
   "cell_type": "code",
   "execution_count": 17,
   "id": "c0a1e49a",
   "metadata": {},
   "outputs": [
    {
     "name": "stdout",
     "output_type": "stream",
     "text": [
      "a = 1\n",
      "b = 2\n",
      "c = -44\n",
      "On solving the quadratic equation we find that: \n",
      "The roots are real and different: \n",
      "5.708203932499369  and  -7.708203932499369\n"
     ]
    }
   ],
   "source": [
    "import math\n",
    "\n",
    "def quadratic_equation(a, b, c):\n",
    "    \n",
    "    discriminant = b*b - 4*a*c\n",
    "    sqrt_dis = math.sqrt(abs(discriminant))\n",
    "    print(\"On solving the quadratic equation we find that: \")\n",
    "    \n",
    "    if discriminant > 0:\n",
    "        print(\"The roots are real and different: \")\n",
    "        print((-b + sqrt_dis)/(2*a), \" and \", (-b - sqrt_dis)/(2*a))\n",
    "    elif discriminant == 0:\n",
    "        print(\"The roots are real and same: \", -b /(2*a))\n",
    "    else:\n",
    "        print(\"The roots are complex: \")\n",
    "        print(-b /(2*a), \" + i\", sqrt_dis, \" and \", -b /(2*a), \" - i\", sqrt_dis)\n",
    "    \n",
    "a = int(input(\"a = \"))\n",
    "b = int(input(\"b = \"))\n",
    "c = int(input(\"c = \"))\n",
    "\n",
    "while a == 0:\n",
    "        print(\"Enter a non zero value for a\")\n",
    "        a = int(input(\"a = \"))\n",
    "else:\n",
    "    quadratic_equation(a, b, c)"
   ]
  },
  {
   "cell_type": "markdown",
   "id": "b7f1f120",
   "metadata": {},
   "source": [
    "#### Q5 Write a Python program to swap two variables without temp variable?"
   ]
  },
  {
   "cell_type": "code",
   "execution_count": 18,
   "id": "57b28907",
   "metadata": {},
   "outputs": [
    {
     "name": "stdout",
     "output_type": "stream",
     "text": [
      "Enter the first value: 11\n",
      "Enter the second value: 24\n",
      "Before swapping the value of a is 11 and b is 24\n",
      "After swapping the value of a is 24 and b is 11\n"
     ]
    }
   ],
   "source": [
    "a = int(input(\"Enter the first value: \"))\n",
    "b = int(input(\"Enter the second value: \"))\n",
    "\n",
    "print(\"Before swapping the value of a is {} and b is {}\".format(a, b))\n",
    "\n",
    "a, b = b, a\n",
    "\n",
    "print(\"After swapping the value of a is {} and b is {}\".format(a, b))"
   ]
  }
 ],
 "metadata": {
  "kernelspec": {
   "display_name": "Python 3 (ipykernel)",
   "language": "python",
   "name": "python3"
  },
  "language_info": {
   "codemirror_mode": {
    "name": "ipython",
    "version": 3
   },
   "file_extension": ".py",
   "mimetype": "text/x-python",
   "name": "python",
   "nbconvert_exporter": "python",
   "pygments_lexer": "ipython3",
   "version": "3.9.12"
  }
 },
 "nbformat": 4,
 "nbformat_minor": 5
}
