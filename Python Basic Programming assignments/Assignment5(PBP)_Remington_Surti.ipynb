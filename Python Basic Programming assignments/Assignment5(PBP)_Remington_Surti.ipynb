{
 "cells": [
  {
   "cell_type": "markdown",
   "id": "84bab7e2",
   "metadata": {},
   "source": [
    "# Python Basic Programming Assignment 5\n",
    "### Remington Surti\n"
   ]
  },
  {
   "cell_type": "markdown",
   "id": "00acc20c",
   "metadata": {},
   "source": [
    "####  Q1 Write a Python Program to Find LCM?"
   ]
  },
  {
   "cell_type": "code",
   "execution_count": 7,
   "id": "35dee878",
   "metadata": {},
   "outputs": [
    {
     "name": "stdout",
     "output_type": "stream",
     "text": [
      "Lets find the least common multiple\n",
      "Enter a number: 11\n",
      "Enter another number: 24\n",
      "The least common multiple of 11 and 24 is:  264\n"
     ]
    }
   ],
   "source": [
    "print('Lets find the least common multiple')\n",
    "def lcm(a, b):\n",
    "    if a>b:\n",
    "        high = a\n",
    "    else:\n",
    "        high=b\n",
    "    flag=True\n",
    "    while(flag):\n",
    "        if((high%a == 0) and (high%b == 0)):\n",
    "            lcm = high\n",
    "            flag=False\n",
    "        high += 1\n",
    "    return lcm\n",
    "n1=int(input('Enter a number: '))\n",
    "n2=int(input('Enter another number: '))\n",
    "print(f'The least common multiple of {n1} and {n2} is: ', lcm(n1,n2))"
   ]
  },
  {
   "cell_type": "markdown",
   "id": "6750ebe3",
   "metadata": {},
   "source": [
    "#### Q2 Write a Python Program to Find HCF?"
   ]
  },
  {
   "cell_type": "code",
   "execution_count": 6,
   "id": "ce03c1a9",
   "metadata": {},
   "outputs": [
    {
     "name": "stdout",
     "output_type": "stream",
     "text": [
      "Lets find the least common multiple\n",
      "Enter a number: 11\n",
      "Enter another number: 24\n",
      "The greatest common divisor of 11 and 24 is:  1\n"
     ]
    }
   ],
   "source": [
    "print('Lets find the least common multiple')\n",
    "def hcf(a, b):\n",
    "    if a<b:\n",
    "        lower=a\n",
    "    else:\n",
    "        lower=b\n",
    "    for i in range(1, lower+1):\n",
    "        if((a%i == 0) and (b%i == 0)):\n",
    "            hcf = i\n",
    "    return hcf\n",
    "n1=int(input('Enter a number: '))\n",
    "n2=int(input('Enter another number: '))\n",
    "print(f'The greatest common divisor of {n1} and {n2} is: ', hcf(n1,n2))"
   ]
  },
  {
   "cell_type": "markdown",
   "id": "d39d5851",
   "metadata": {},
   "source": [
    "#### Q3 Write a Python Program to Convert Decimal to Binary, Octal and Hexadecimal?"
   ]
  },
  {
   "cell_type": "code",
   "execution_count": 10,
   "id": "935d5d2b",
   "metadata": {},
   "outputs": [
    {
     "name": "stdout",
     "output_type": "stream",
     "text": [
      "Lets convert Decimal to Binary, Octal and Hexadecimal number\n",
      "Enter a decimal number: 344\n",
      "Decimal to Binary: 0b101011000\n",
      "Decimal to Octal: 0o530\n",
      "Decimal to Hexadecimal: 0x158\n"
     ]
    }
   ],
   "source": [
    "print('Lets convert Decimal to Binary, Octal and Hexadecimal number')\n",
    "n =  int(input('Enter a decimal number: '))\n",
    "print(f'Decimal to Binary: {bin(n)}')\n",
    "print(f'Decimal to Octal: {oct(n)}')\n",
    "print(f'Decimal to Hexadecimal: {hex(n)}')"
   ]
  },
  {
   "cell_type": "markdown",
   "id": "d5777f70",
   "metadata": {},
   "source": [
    "#### Q4 Write a Python Program To Find ASCII value of a character?"
   ]
  },
  {
   "cell_type": "code",
   "execution_count": 13,
   "id": "3f098542",
   "metadata": {},
   "outputs": [
    {
     "name": "stdout",
     "output_type": "stream",
     "text": [
      "Lets find ASCII value of a character\n",
      "Enter a character: k\n",
      "ASCII value of k is: 107\n"
     ]
    }
   ],
   "source": [
    "print('Lets find ASCII value of a character')\n",
    "n =  input('Enter a character: ')\n",
    "print(f'ASCII value of {n} is: {ord(n)}')"
   ]
  },
  {
   "cell_type": "markdown",
   "id": "9f8dac8a",
   "metadata": {},
   "source": [
    "#### Q5 Write a Python Program to Make a Simple Calculator with 4 basic mathematical operations?"
   ]
  },
  {
   "cell_type": "code",
   "execution_count": 45,
   "id": "c714bd15",
   "metadata": {},
   "outputs": [
    {
     "name": "stdout",
     "output_type": "stream",
     "text": [
      "Welcome to your mini calculator\n",
      "Select an operation -\n",
      "1. Add\n",
      "2. Subtract\n",
      "3. Multiply\n",
      "4. Divide\n",
      "\n",
      "Select operations form 1, 2, 3, 4 :1\n",
      "Enter first number: 2\n",
      "Enter second number: 4\n",
      "6\n"
     ]
    }
   ],
   "source": [
    "def add(a, b):\n",
    "    return(a + b)\n",
    "def minus(self, a, b):\n",
    "    return(a - b)\n",
    "def multiply(self, a, b):\n",
    "    return(a * b)\n",
    "def divide(self, a, b):\n",
    "    return(a / b)\n",
    "print('Welcome to your mini calculator')    \n",
    "print(\"Select an operation -\\n\" \\\n",
    "        \"1. Add\\n\" \\\n",
    "        \"2. Subtract\\n\" \\\n",
    "        \"3. Multiply\\n\" \\\n",
    "        \"4. Divide\\n\")\n",
    " \n",
    "choice = int(input(\"Select operations form 1, 2, 3, 4 :\"))\n",
    " \n",
    "n1 = int(input(\"Enter first number: \"))\n",
    "n2 = int(input(\"Enter second number: \"))\n",
    " \n",
    "if choice == 1:\n",
    "    print(add(n1,n2))\n",
    "elif choice == 2:\n",
    "    print(minus(n1,n2))\n",
    "elif choice == 3:\n",
    "    print(multiply(n1,n2))\n",
    "elif choice == 4:\n",
    "    print(divide(n1,n2))\n",
    "else:\n",
    "    print(\"Invalid input\")"
   ]
  }
 ],
 "metadata": {
  "kernelspec": {
   "display_name": "Python 3 (ipykernel)",
   "language": "python",
   "name": "python3"
  },
  "language_info": {
   "codemirror_mode": {
    "name": "ipython",
    "version": 3
   },
   "file_extension": ".py",
   "mimetype": "text/x-python",
   "name": "python",
   "nbconvert_exporter": "python",
   "pygments_lexer": "ipython3",
   "version": "3.9.12"
  }
 },
 "nbformat": 4,
 "nbformat_minor": 5
}
